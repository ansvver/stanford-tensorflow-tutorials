{
 "cells": [
  {
   "cell_type": "code",
   "execution_count": 1,
   "metadata": {},
   "outputs": [
    {
     "name": "stderr",
     "output_type": "stream",
     "text": [
      "/Users/ansvver/.pyenv/version/anaconda2/lib/python2.7/site-packages/h5py/__init__.py:34: FutureWarning: Conversion of the second argument of issubdtype from `float` to `np.floating` is deprecated. In future, it will be treated as `np.float64 == np.dtype(float).type`.\n",
      "  from ._conv import register_converters as _register_converters\n"
     ]
    }
   ],
   "source": [
    "\"\"\" The mo frills implementation of word2vec skip-gram model using NCE loss. \n",
    "Author: Chip Huyen\n",
    "Prepared for the class CS 20SI: \"TensorFlow for Deep Learning Research\"\n",
    "cs20si.stanford.edu\n",
    "\"\"\"\n",
    "\n",
    "from __future__ import absolute_import\n",
    "from __future__ import division\n",
    "from __future__ import print_function\n",
    "\n",
    "import os\n",
    "os.environ['TF_CPP_MIN_LOG_LEVEL']='2'\n",
    "\n",
    "import numpy as np\n",
    "import tensorflow as tf\n",
    "from tensorflow.contrib.tensorboard.plugins import projector\n",
    "\n",
    "from process_data import process_data\n",
    "\n",
    "VOCAB_SIZE = 50000\n",
    "BATCH_SIZE = 128\n",
    "EMBED_SIZE = 128 # dimension of the word embedding vectors\n",
    "SKIP_WINDOW = 1 # the context window\n",
    "NUM_SAMPLED = 64    # Number of negative examples to sample.\n",
    "LEARNING_RATE = 1.0\n",
    "NUM_TRAIN_STEPS = 20000\n",
    "SKIP_STEP = 2000 # how many steps to skip before reporting the loss"
   ]
  },
  {
   "cell_type": "code",
   "execution_count": 19,
   "metadata": {
    "collapsed": true
   },
   "outputs": [],
   "source": [
    "def word2vec(batch_gen):\n",
    "    \"\"\" Build the graph for word2vec model and train it \"\"\"\n",
    "    # Step 1: define the placeholders for input and output\n",
    "    # center_words have to be int to work on embedding lookup\n",
    "\n",
    "    center_words = tf.placeholder(tf.int32, shape=[BATCH_SIZE], name='center_words')\n",
    "    target_words = tf.placeholder(tf.int32, shape=[BATCH_SIZE, 1], name='target_words')\n",
    "    \n",
    "\n",
    "\n",
    "    # Step 2: define weights. In word2vec, it's actually the weights that we care about\n",
    "    # vocab size x embed size\n",
    "    # initialized to random uniform -1 to 1\n",
    "\n",
    "    embed_matrix = tf.Variable(tf.random_uniform([VOCAB_SIZE, EMBED_SIZE], -1.0, 1.0), name='embed_matrix')\n",
    "\n",
    "\n",
    "    # Step 3: define the inference\n",
    "    # get the embed of input words using tf.nn.embedding_lookup\n",
    "    # embed = tf.nn.embedding_lookup(embed_matrix, center_words, name='embed')\n",
    "\n",
    "    embed = tf.nn.embedding_lookup(embed_matrix, center_words, name='embed')\n",
    "\n",
    "\n",
    "        # Step 4: construct variables for NCE loss\n",
    "        # tf.nn.nce_loss(weights, biases, labels, inputs, num_sampled, num_classes, ...)\n",
    "        # nce_weight (vocab size x embed size), intialized to truncated_normal stddev=1.0 / (EMBED_SIZE ** 0.5)\n",
    "        # bias: vocab size, initialized to 0\n",
    "\n",
    "    nce_weight = tf.Variable(tf.truncated_normal([VOCAB_SIZE, EMBED_SIZE],\n",
    "                                                stddev=1.0 / (EMBED_SIZE ** 0.5)), \n",
    "                                                name='nce_weight')\n",
    "    nce_bias = tf.Variable(tf.zeros([VOCAB_SIZE]), name='nce_bias')\n",
    "\n",
    "\n",
    "        # define loss function to be NCE loss function\n",
    "        # tf.nn.nce_loss(weights, biases, labels, inputs, num_sampled, num_classes, ...)\n",
    "        # need to get the mean accross the batch\n",
    "        # note: you should use embedding of center words for inputs, not center words themselves\n",
    "\n",
    "    loss = tf.reduce_mean(tf.nn.nce_loss(weights=nce_weight, \n",
    "                                        biases=nce_bias, \n",
    "                                        labels=target_words, \n",
    "                                        inputs=embed, \n",
    "                                        num_sampled=NUM_SAMPLED, \n",
    "                                        num_classes=VOCAB_SIZE), name='loss')\n",
    "\n",
    "        \n",
    "    # Step 5: define optimizer\n",
    "    \n",
    "    optimizer = tf.train.GradientDescentOptimizer(LEARNING_RATE).minimize(loss)\n",
    "\n",
    "\n",
    "\n",
    "    with tf.Session() as sess:\n",
    "        # TO DO: initialize variables\n",
    "        sess.run(tf.global_variables_initializer())\n",
    "        \n",
    "        total_loss = 0.0 # we use this to calculate the average loss in the last SKIP_STEP steps\n",
    "        writer = tf.summary.FileWriter('./graphs/no_frills/', sess.graph)\n",
    "        for index in range(NUM_TRAIN_STEPS):\n",
    "            centers, targets = next(batch_gen)\n",
    "            # TO DO: create feed_dict, run optimizer, fetch loss_batch\n",
    "            _, loss_batch = sess.run([optimizer, loss],\n",
    "                     feed_dict={center_words: centers, target_words: targets})\n",
    "\n",
    "            total_loss += loss_batch\n",
    "            if (index + 1) % SKIP_STEP == 0:\n",
    "                print('Average loss at step {}: {:5.1f}'.format(index, total_loss / SKIP_STEP))\n",
    "                total_loss = 0.0\n",
    "        writer.close()"
   ]
  },
  {
   "cell_type": "code",
   "execution_count": 2,
   "metadata": {},
   "outputs": [
    {
     "name": "stdout",
     "output_type": "stream",
     "text": [
      "Successfully downloaded the file ../data/text8.zip\n"
     ]
    }
   ],
   "source": [
    "batch_gen = process_data(VOCAB_SIZE, BATCH_SIZE, SKIP_WINDOW)"
   ]
  },
  {
   "cell_type": "code",
   "execution_count": 20,
   "metadata": {},
   "outputs": [
    {
     "name": "stdout",
     "output_type": "stream",
     "text": [
      "Average loss at step 1999: 113.6\n",
      "Average loss at step 3999:  52.9\n",
      "Average loss at step 5999:  33.1\n",
      "Average loss at step 7999:  23.5\n",
      "Average loss at step 9999:  17.9\n",
      "Average loss at step 11999:  13.8\n",
      "Average loss at step 13999:  11.9\n",
      "Average loss at step 15999:  10.0\n",
      "Average loss at step 17999:   8.5\n",
      "Average loss at step 19999:   8.0\n"
     ]
    }
   ],
   "source": [
    "word2vec(batch_gen)"
   ]
  },
  {
   "cell_type": "code",
   "execution_count": 18,
   "metadata": {},
   "outputs": [
    {
     "name": "stdout",
     "output_type": "stream",
     "text": [
      "1.2.1\n"
     ]
    }
   ],
   "source": [
    "print(tf.__version__)"
   ]
  },
  {
   "cell_type": "code",
   "execution_count": 21,
   "metadata": {
    "collapsed": true
   },
   "outputs": [],
   "source": [
    "def word2vec_with_scope(batch_gen):\n",
    "    \"\"\" Build the graph for word2vec model and train it \"\"\"\n",
    "    # Step 1: define the placeholders for input and output\n",
    "    # center_words have to be int to work on embedding lookup\n",
    "\n",
    "    with tf.name_scope('data'):\n",
    "        center_words = tf.placeholder(tf.int32, shape=[BATCH_SIZE], name='center_words')\n",
    "        target_words = tf.placeholder(tf.int32, shape=[BATCH_SIZE, 1], name='target_words')\n",
    "    \n",
    "\n",
    "\n",
    "    # Step 2: define weights. In word2vec, it's actually the weights that we care about\n",
    "    # vocab size x embed size\n",
    "    # initialized to random uniform -1 to 1\n",
    "\n",
    "    with tf.name_scope('embedding_matrix'):\n",
    "        embed_matrix = tf.Variable(tf.random_uniform([VOCAB_SIZE, EMBED_SIZE], -1.0, 1.0), name='embed_matrix')\n",
    "\n",
    "\n",
    "    # Step 3: define the inference\n",
    "    # get the embed of input words using tf.nn.embedding_lookup\n",
    "    # embed = tf.nn.embedding_lookup(embed_matrix, center_words, name='embed')\n",
    "    with tf.name_scope('loss'):\n",
    "\n",
    "        embed = tf.nn.embedding_lookup(embed_matrix, center_words, name='embed')\n",
    "\n",
    "\n",
    "        # Step 4: construct variables for NCE loss\n",
    "        # tf.nn.nce_loss(weights, biases, labels, inputs, num_sampled, num_classes, ...)\n",
    "        # nce_weight (vocab size x embed size), intialized to truncated_normal stddev=1.0 / (EMBED_SIZE ** 0.5)\n",
    "        # bias: vocab size, initialized to 0\n",
    "\n",
    "        nce_weight = tf.Variable(tf.truncated_normal([VOCAB_SIZE, EMBED_SIZE],\n",
    "                                                stddev=1.0 / (EMBED_SIZE ** 0.5)), \n",
    "                                                name='nce_weight')\n",
    "        nce_bias = tf.Variable(tf.zeros([VOCAB_SIZE]), name='nce_bias')\n",
    "\n",
    "\n",
    "        # define loss function to be NCE loss function\n",
    "        # tf.nn.nce_loss(weights, biases, labels, inputs, num_sampled, num_classes, ...)\n",
    "        # need to get the mean accross the batch\n",
    "        # note: you should use embedding of center words for inputs, not center words themselves\n",
    "\n",
    "        loss = tf.reduce_mean(tf.nn.nce_loss(weights=nce_weight, \n",
    "                                            biases=nce_bias, \n",
    "                                            labels=target_words, \n",
    "                                            inputs=embed, \n",
    "                                            num_sampled=NUM_SAMPLED, \n",
    "                                            num_classes=VOCAB_SIZE), name='loss')\n",
    "\n",
    "        \n",
    "    # Step 5: define optimizer\n",
    "    \n",
    "    optimizer = tf.train.GradientDescentOptimizer(LEARNING_RATE).minimize(loss)\n",
    "\n",
    "\n",
    "\n",
    "    with tf.Session() as sess:\n",
    "        # TO DO: initialize variables\n",
    "        sess.run(tf.global_variables_initializer())\n",
    "        \n",
    "        total_loss = 0.0 # we use this to calculate the average loss in the last SKIP_STEP steps\n",
    "        writer = tf.summary.FileWriter('./graphs/w2v_with_namescope/', sess.graph)\n",
    "        for index in range(NUM_TRAIN_STEPS):\n",
    "            centers, targets = next(batch_gen)\n",
    "            # TO DO: create feed_dict, run optimizer, fetch loss_batch\n",
    "            _, loss_batch = sess.run([optimizer, loss],\n",
    "                     feed_dict={center_words: centers, target_words: targets})\n",
    "\n",
    "            total_loss += loss_batch\n",
    "            if (index + 1) % SKIP_STEP == 0:\n",
    "                print('Average loss at step {}: {:5.1f}'.format(index, total_loss / SKIP_STEP))\n",
    "                total_loss = 0.0\n",
    "        writer.close()"
   ]
  },
  {
   "cell_type": "code",
   "execution_count": 23,
   "metadata": {},
   "outputs": [
    {
     "name": "stdout",
     "output_type": "stream",
     "text": [
      "Average loss at step 1999: 112.7\n",
      "Average loss at step 3999:  52.2\n",
      "Average loss at step 5999:  33.4\n",
      "Average loss at step 7999:  23.9\n",
      "Average loss at step 9999:  16.8\n",
      "Average loss at step 11999:  13.6\n",
      "Average loss at step 13999:  12.0\n",
      "Average loss at step 15999:  10.1\n",
      "Average loss at step 17999:   9.1\n",
      "Average loss at step 19999:   7.9\n"
     ]
    }
   ],
   "source": [
    "word2vec_with_scope(batch_gen)"
   ]
  },
  {
   "cell_type": "code",
   "execution_count": null,
   "metadata": {
    "collapsed": true
   },
   "outputs": [],
   "source": []
  }
 ],
 "metadata": {
  "kernelspec": {
   "display_name": "Python(cs20si)",
   "language": "python",
   "name": "cs20si"
  },
  "language_info": {
   "codemirror_mode": {
    "name": "ipython",
    "version": 2
   },
   "file_extension": ".py",
   "mimetype": "text/x-python",
   "name": "python",
   "nbconvert_exporter": "python",
   "pygments_lexer": "ipython2",
   "version": "2.7.14"
  }
 },
 "nbformat": 4,
 "nbformat_minor": 2
}
