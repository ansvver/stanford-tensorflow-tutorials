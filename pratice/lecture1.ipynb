{
 "cells": [
  {
   "cell_type": "code",
   "execution_count": null,
   "metadata": {
    "collapsed": true
   },
   "outputs": [],
   "source": [
    "import tensorflow as tf"
   ]
  },
  {
   "cell_type": "code",
   "execution_count": null,
   "metadata": {},
   "outputs": [],
   "source": [
    "x, y = 1, 2\n",
    "op1 = tf.add(x, y)\n",
    "op2 = tf.multiply(x, y)\n",
    "op3 = tf.pow(op1, op2)\n",
    "with tf.Session() as sess:\n",
    "    print sess.run([op1, op2, op3])\n",
    "    "
   ]
  },
  {
   "cell_type": "code",
   "execution_count": null,
   "metadata": {},
   "outputs": [],
   "source": [
    "g = tf.Graph()\n",
    "with g.as_default():\n",
    "    a= tf.constant(3, name=\"c\")\n",
    "    b=  tf.constant(5, name=\"c\")\n",
    "    #a =3\n",
    "    #b = 5\n",
    "    x = tf.add(a, b)\n",
    "    s1 = tf.Session()\n",
    "    print s1.run(x)\n",
    "    s1.close()\n",
    "g1 = tf.Graph()\n",
    "with g1.as_default():\n",
    "    a= tf.constant(6, name=\"c2\")\n",
    "    b=  tf.constant(7, name=\"c2\")\n",
    "    x1 = tf.add(a, b)\n",
    "    s1 = tf.Session()\n",
    "    print s1.run(x1)\n",
    "    s1.close()\n",
    "# Same as previous\n",
    "sess = tf.Session(graph=g) # session is run on the graph g\n",
    "print sess.run(x)\n",
    "sess2 = tf.Session(graph=g1)\n",
    "# run session\n",
    "print sess2.run(x1)\n",
    "sess.close()\n",
    "sess2.close()"
   ]
  },
  {
   "cell_type": "code",
   "execution_count": null,
   "metadata": {},
   "outputs": [],
   "source": [
    "g = tf.Graph()\n",
    "# add ops to the default graph\n",
    "#a = tf.constant(3)\n",
    "# add ops to the user created graph\n",
    "with g.as_default():\n",
    "    a = tf.constant(3)\n",
    "    b = tf.constant(5)\n",
    "    x = tf.add(a,b)\n",
    "with tf.Session(graph=g) as sess:\n",
    "    print sess.run(b)"
   ]
  },
  {
   "cell_type": "code",
   "execution_count": null,
   "metadata": {},
   "outputs": [],
   "source": [
    "g1 = tf.Graph()\n",
    "with g1.as_default():\n",
    "    c1 = tf.constant([1.0])\n",
    "with tf.Graph().as_default() as g2:\n",
    "    c2 = tf.constant([2.0])\n",
    "\n",
    "with tf.Session(graph=g1) as sess1:\n",
    "    print sess1.run(c1)\n",
    "with tf.Session(graph=g2) as sess2:\n",
    "    print sess2.run(c2)"
   ]
  },
  {
   "cell_type": "code",
   "execution_count": null,
   "metadata": {},
   "outputs": [],
   "source": [
    "g1 = tf.get_default_graph()\n",
    "g2 = tf.Graph()\n",
    "# add ops to the default graph\n",
    "with g1.as_default():\n",
    "    a = tf.constant(3)\n",
    "# add ops to the user created graph\n",
    "with g2.as_default():\n",
    "    b = tf.constant(5)\n",
    "with tf.Session(graph=g1) as sess:\n",
    "    print sess.run(a)"
   ]
  },
  {
   "cell_type": "code",
   "execution_count": null,
   "metadata": {},
   "outputs": [],
   "source": [
    "tf.__version__\n"
   ]
  },
  {
   "cell_type": "code",
   "execution_count": 2,
   "metadata": {},
   "outputs": [
    {
     "name": "stdout",
     "output_type": "stream",
     "text": [
      "WARNING:tensorflow:float64 is not supported by many models, consider casting to float32.\n",
      "INFO:tensorflow:Using default config.\n",
      "WARNING:tensorflow:Using temporary folder as model directory: /var/folders/j4/tr0m58s1719f_25xw82_1dqc0000gn/T/tmpO09OsB\n",
      "INFO:tensorflow:Using config: {'_save_checkpoints_secs': 600, '_num_ps_replicas': 0, '_keep_checkpoint_max': 5, '_task_type': None, '_is_chief': True, '_cluster_spec': <tensorflow.python.training.server_lib.ClusterSpec object at 0x119d6e390>, '_model_dir': '/var/folders/j4/tr0m58s1719f_25xw82_1dqc0000gn/T/tmpO09OsB', '_save_checkpoints_steps': None, '_keep_checkpoint_every_n_hours': 10000, '_session_config': None, '_tf_random_seed': None, '_environment': 'local', '_num_worker_replicas': 0, '_task_id': 0, '_save_summary_steps': 100, '_tf_config': gpu_options {\n",
      "  per_process_gpu_memory_fraction: 1\n",
      "}\n",
      ", '_evaluation_master': '', '_master': ''}\n",
      "WARNING:tensorflow:From <ipython-input-2-6662c20920c6>:12: calling fit (from tensorflow.contrib.learn.python.learn.estimators.estimator) with y is deprecated and will be removed after 2016-12-01.\n",
      "Instructions for updating:\n",
      "Estimator is decoupled from Scikit Learn interface by moving into\n",
      "separate class SKCompat. Arguments x, y and batch_size are only\n",
      "available in the SKCompat class, Estimator will only accept input_fn.\n",
      "Example conversion:\n",
      "  est = Estimator(...) -> est = SKCompat(Estimator(...))\n",
      "WARNING:tensorflow:From <ipython-input-2-6662c20920c6>:12: calling fit (from tensorflow.contrib.learn.python.learn.estimators.estimator) with x is deprecated and will be removed after 2016-12-01.\n",
      "Instructions for updating:\n",
      "Estimator is decoupled from Scikit Learn interface by moving into\n",
      "separate class SKCompat. Arguments x, y and batch_size are only\n",
      "available in the SKCompat class, Estimator will only accept input_fn.\n",
      "Example conversion:\n",
      "  est = Estimator(...) -> est = SKCompat(Estimator(...))\n",
      "WARNING:tensorflow:float64 is not supported by many models, consider casting to float32.\n",
      "WARNING:tensorflow:From /Users/ansvver/Workspace/git/stanford-tensorflow-tutorials/venv/lib/python2.7/site-packages/tensorflow/contrib/learn/python/learn/estimators/head.py:625: scalar_summary (from tensorflow.python.ops.logging_ops) is deprecated and will be removed after 2016-11-30.\n",
      "Instructions for updating:\n",
      "Please switch to tf.summary.scalar. Note that tf.summary.scalar uses the node name instead of the tag. This means that TensorFlow will automatically de-duplicate summary names based on the scope they are created in. Also, passing a tensor or list of tags to a scalar summary op is no longer supported.\n",
      "INFO:tensorflow:Create CheckpointSaverHook.\n",
      "INFO:tensorflow:Saving checkpoints for 1 into /var/folders/j4/tr0m58s1719f_25xw82_1dqc0000gn/T/tmpO09OsB/model.ckpt.\n",
      "INFO:tensorflow:loss = 1.2856061, step = 1\n",
      "INFO:tensorflow:global_step/sec: 793.922\n",
      "INFO:tensorflow:loss = 0.1985005, step = 101 (0.128 sec)\n",
      "INFO:tensorflow:Saving checkpoints for 200 into /var/folders/j4/tr0m58s1719f_25xw82_1dqc0000gn/T/tmpO09OsB/model.ckpt.\n",
      "INFO:tensorflow:Loss for final step: 0.09342343.\n",
      "WARNING:tensorflow:From /Users/ansvver/Workspace/git/stanford-tensorflow-tutorials/venv/lib/python2.7/site-packages/tensorflow/python/util/deprecation.py:347: calling predict (from tensorflow.contrib.learn.python.learn.estimators.dnn) with outputs=None is deprecated and will be removed after 2017-03-01.\n",
      "Instructions for updating:\n",
      "Please switch to predict_classes, or set `outputs` argument.\n",
      "WARNING:tensorflow:From /Users/ansvver/Workspace/git/stanford-tensorflow-tutorials/venv/lib/python2.7/site-packages/tensorflow/contrib/learn/python/learn/estimators/dnn.py:433: calling predict (from tensorflow.contrib.learn.python.learn.estimators.estimator) with x is deprecated and will be removed after 2016-12-01.\n",
      "Instructions for updating:\n",
      "Estimator is decoupled from Scikit Learn interface by moving into\n",
      "separate class SKCompat. Arguments x, y and batch_size are only\n",
      "available in the SKCompat class, Estimator will only accept input_fn.\n",
      "Example conversion:\n",
      "  est = Estimator(...) -> est = SKCompat(Estimator(...))\n",
      "WARNING:tensorflow:float64 is not supported by many models, consider casting to float32.\n",
      "INFO:tensorflow:Restoring parameters from /var/folders/j4/tr0m58s1719f_25xw82_1dqc0000gn/T/tmpO09OsB/model.ckpt-200\n",
      "Accuracy: 0.933333\n"
     ]
    }
   ],
   "source": [
    "import tensorflow as tf\n",
    "import sklearn\n",
    "from sklearn import cross_validation\n",
    "from sklearn import metrics\n",
    "# Load dataset.\n",
    "iris = tf.contrib.learn.datasets.load_dataset('iris')\n",
    "x_train, x_test, y_train, y_test = cross_validation.train_test_split(iris.data, iris.target, test_size=0.2, random_state=42)\n",
    "# Build 3 layer DNN with 10, 20, 10 units respectively.\n",
    "feature_columns = tf.contrib.learn.infer_real_valued_columns_from_input(x_train)\n",
    "classifier = tf.contrib.learn.DNNClassifier(feature_columns=feature_columns, hidden_units=[10, 20, 10], n_classes=3)\n",
    "# Fit and predict.\n",
    "classifier.fit(x_train, y_train, steps=200)\n",
    "predictions = list(classifier.predict(x_test, as_iterable=True)) \n",
    "score = metrics.accuracy_score(y_test, predictions)\n",
    "print('Accuracy: {0:f}'.format(score))"
   ]
  },
  {
   "cell_type": "code",
   "execution_count": null,
   "metadata": {
    "collapsed": true
   },
   "outputs": [],
   "source": []
  }
 ],
 "metadata": {
  "kernelspec": {
   "display_name": "Python(cs20si)",
   "language": "python",
   "name": "cs20si"
  },
  "language_info": {
   "codemirror_mode": {
    "name": "ipython",
    "version": 2
   },
   "file_extension": ".py",
   "mimetype": "text/x-python",
   "name": "python",
   "nbconvert_exporter": "python",
   "pygments_lexer": "ipython2",
   "version": "2.7.14"
  }
 },
 "nbformat": 4,
 "nbformat_minor": 2
}
