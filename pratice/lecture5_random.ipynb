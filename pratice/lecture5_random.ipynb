{
 "cells": [
  {
   "cell_type": "code",
   "execution_count": 1,
   "metadata": {
    "collapsed": true
   },
   "outputs": [],
   "source": [
    "import tensorflow as tf"
   ]
  },
  {
   "cell_type": "code",
   "execution_count": 14,
   "metadata": {},
   "outputs": [
    {
     "name": "stdout",
     "output_type": "stream",
     "text": [
      "1\n",
      "INFO:tensorflow:Restoring parameters from checkpoints/variable_a\n",
      "0\n"
     ]
    }
   ],
   "source": [
    "a = tf.Variable(0, dtype=tf.int32)\n",
    "saver = tf.train.Saver([a])\n",
    "with tf.Session() as sess:\n",
    "    # sess.run(tf.global_variables_initializer())\n",
    "    a.initializer.run()\n",
    "    saver.save(sess, 'checkpoints/variable_a')\n",
    "    sess.run(a.assign(1))\n",
    "    print sess.run(a)\n",
    "    saver.restore(sess, 'checkpoints/variable_a')\n",
    "    print sess.run(a)"
   ]
  },
  {
   "cell_type": "code",
   "execution_count": 30,
   "metadata": {
    "collapsed": true
   },
   "outputs": [],
   "source": [
    "# var_a = tf.Variable(tf.truncated_normal((-1.0, 1.0), stddev=0.01, seed=0))\n",
    "my_var = tf.Variable(tf.truncated_normal([5, 4], stddev=0.1, seed=0))"
   ]
  },
  {
   "cell_type": "code",
   "execution_count": 31,
   "metadata": {},
   "outputs": [
    {
     "name": "stdout",
     "output_type": "stream",
     "text": [
      "Help on function random_uniform in module tensorflow.python.ops.random_ops:\n",
      "\n",
      "random_uniform(shape, minval=0, maxval=None, dtype=tf.float32, seed=None, name=None)\n",
      "    Outputs random values from a uniform distribution.\n",
      "    \n",
      "    The generated values follow a uniform distribution in the range\n",
      "    `[minval, maxval)`. The lower bound `minval` is included in the range, while\n",
      "    the upper bound `maxval` is excluded.\n",
      "    \n",
      "    For floats, the default range is `[0, 1)`.  For ints, at least `maxval` must\n",
      "    be specified explicitly.\n",
      "    \n",
      "    In the integer case, the random integers are slightly biased unless\n",
      "    `maxval - minval` is an exact power of two.  The bias is small for values of\n",
      "    `maxval - minval` significantly smaller than the range of the output (either\n",
      "    `2**32` or `2**64`).\n",
      "    \n",
      "    Args:\n",
      "      shape: A 1-D integer Tensor or Python array. The shape of the output tensor.\n",
      "      minval: A 0-D Tensor or Python value of type `dtype`. The lower bound on the\n",
      "        range of random values to generate.  Defaults to 0.\n",
      "      maxval: A 0-D Tensor or Python value of type `dtype`. The upper bound on\n",
      "        the range of random values to generate.  Defaults to 1 if `dtype` is\n",
      "        floating point.\n",
      "      dtype: The type of the output: `float32`, `float64`, `int32`, or `int64`.\n",
      "      seed: A Python integer. Used to create a random seed for the distribution.\n",
      "        See @{tf.set_random_seed}\n",
      "        for behavior.\n",
      "      name: A name for the operation (optional).\n",
      "    \n",
      "    Returns:\n",
      "      A tensor of the specified shape filled with random uniform values.\n",
      "    \n",
      "    Raises:\n",
      "      ValueError: If `dtype` is integral and `maxval` is not specified.\n",
      "\n"
     ]
    }
   ],
   "source": [
    "help(tf.random_uniform)"
   ]
  },
  {
   "cell_type": "code",
   "execution_count": 43,
   "metadata": {},
   "outputs": [
    {
     "name": "stdout",
     "output_type": "stream",
     "text": [
      "8.343191\n",
      "4.3440557\n",
      "8.343191\n"
     ]
    }
   ],
   "source": [
    "c = tf.random_uniform([], 0, 10, seed=47)\n",
    "d = tf.random_uniform([], 0, 10, seed=47)\n",
    "with tf.Session() as sess:\n",
    "    print sess.run(c)\n",
    "    print sess.run(c)\n",
    "    print sess.run(d)\n",
    "    "
   ]
  },
  {
   "cell_type": "code",
   "execution_count": 63,
   "metadata": {
    "collapsed": true
   },
   "outputs": [],
   "source": [
    "tf.set_random_seed(47)"
   ]
  },
  {
   "cell_type": "code",
   "execution_count": 64,
   "metadata": {},
   "outputs": [
    {
     "name": "stdout",
     "output_type": "stream",
     "text": [
      "4.495194\n",
      "4.682127\n",
      "4.520322\n"
     ]
    }
   ],
   "source": [
    "a = tf.random_uniform([], 0, 10)\n",
    "b = tf.random_uniform([], 0, 10)\n",
    "with tf.Session() as sess:\n",
    "    print sess.run(a)\n",
    "    print sess.run(a)\n",
    "    print sess.run(b)"
   ]
  },
  {
   "cell_type": "code",
   "execution_count": null,
   "metadata": {
    "collapsed": true
   },
   "outputs": [],
   "source": []
  }
 ],
 "metadata": {
  "kernelspec": {
   "display_name": "Python(cs20si)",
   "language": "python",
   "name": "cs20si"
  },
  "language_info": {
   "codemirror_mode": {
    "name": "ipython",
    "version": 2
   },
   "file_extension": ".py",
   "mimetype": "text/x-python",
   "name": "python",
   "nbconvert_exporter": "python",
   "pygments_lexer": "ipython2",
   "version": "2.7.14"
  }
 },
 "nbformat": 4,
 "nbformat_minor": 2
}
