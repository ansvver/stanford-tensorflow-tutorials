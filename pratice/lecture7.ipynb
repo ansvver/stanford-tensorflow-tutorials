{
 "cells": [
  {
   "cell_type": "code",
   "execution_count": 3,
   "metadata": {
    "collapsed": true
   },
   "outputs": [],
   "source": [
    "import tensorflow as tf\n",
    "import numpy as np"
   ]
  },
  {
   "cell_type": "code",
   "execution_count": 12,
   "metadata": {},
   "outputs": [],
   "source": [
    "ones_2d = np.ones((5,5))\n",
    "weight_2d = np.array([[1, 2, 3], [4, 5, 6], [7, 8, 9]])\n",
    "strides_2d = [1, 1, 1, 1]\n",
    "\n",
    "in_2d = tf.constant(ones_2d, dtype=tf.float32)\n",
    "filter_2d = tf.constant(weight_2d, dtype=tf.float32)\n",
    "\n",
    "in_width = int(in_2d.shape[0])\n",
    "in_height = int(in_2d.shape[1])\n",
    "\n",
    "filter_width = int(filter_2d.shape[0])\n",
    "filter_height = int(filter_2d.shape[1])\n",
    "\n",
    "input_2d   = tf.reshape(in_2d, [1, in_height, in_width, 1])\n",
    "kernel_2d = tf.reshape(filter_2d, [filter_height, filter_width, 1, 1])\n",
    "\n",
    "output_2d = tf.squeeze(tf.nn.conv2d(input_2d, kernel_2d, strides=strides_2d, padding='SAME'))"
   ]
  },
  {
   "cell_type": "code",
   "execution_count": 16,
   "metadata": {},
   "outputs": [
    {
     "name": "stdout",
     "output_type": "stream",
     "text": [
      "[[1. 2. 3.]\n",
      " [4. 5. 6.]\n",
      " [7. 8. 9.]]\n",
      "[[[[1.]]\n",
      "\n",
      "  [[2.]]\n",
      "\n",
      "  [[3.]]]\n",
      "\n",
      "\n",
      " [[[4.]]\n",
      "\n",
      "  [[5.]]\n",
      "\n",
      "  [[6.]]]\n",
      "\n",
      "\n",
      " [[[7.]]\n",
      "\n",
      "  [[8.]]\n",
      "\n",
      "  [[9.]]]]\n"
     ]
    }
   ],
   "source": [
    "with tf.Session() as sess:\n",
    "    print sess.run(filter_2d)\n",
    "    print sess.run(kernel_2d)"
   ]
  },
  {
   "cell_type": "code",
   "execution_count": 22,
   "metadata": {},
   "outputs": [],
   "source": [
    "import os\n",
    "os.environ['TF_CPP_MIN_LOG_LEVEL']='2'\n",
    "\n",
    "import sys\n",
    "sys.path.append('..')\n",
    "\n",
    "from matplotlib import gridspec as gridspec\n",
    "from matplotlib import pyplot as plt\n",
    "import tensorflow as tf\n",
    "\n",
    "import kernels\n",
    "\n",
    "FILENAME = 'data/friday.jpg'\n",
    "\n",
    "def read_one_image(filename):\n",
    "    \"\"\" This is just to demonstrate how to open an image in TensorFlow,\n",
    "    but it's actually a lot easier to use Pillow \n",
    "    \"\"\"\n",
    "    filename_queue = tf.train.string_input_producer([filename])\n",
    "    image_reader = tf.WholeFileReader()\n",
    "    _, image_file = image_reader.read(filename_queue)\n",
    "    image = tf.image.decode_jpeg(image_file, channels=3)\n",
    "    image = tf.cast(image, tf.float32) / 256.0 # cast to float to make conv2d work\n",
    "    return image\n",
    "\n",
    "def convolve(image, kernels, rgb=True, strides=[1, 3, 3, 1], padding='SAME'):\n",
    "    images = [image[0]]\n",
    "    for i, kernel in enumerate(kernels):\n",
    "        filtered_image = tf.nn.conv2d(image, kernel, strides=strides, padding=padding)[0]\n",
    "        if i == 2:\n",
    "            filtered_image = tf.minimum(tf.nn.relu(filtered_image), 255)\n",
    "        images.append(filtered_image)\n",
    "    return images\n",
    "\n",
    "def get_real_images(images):\n",
    "    with tf.Session() as sess:\n",
    "        coord = tf.train.Coordinator()\n",
    "        threads = tf.train.start_queue_runners(coord=coord)\n",
    "        images = sess.run(images)\n",
    "        coord.request_stop()\n",
    "        coord.join(threads)\n",
    "    return images\n",
    "\n",
    "def show_images(images, rgb=True):\n",
    "    gs = gridspec.GridSpec(1, len(images))\n",
    "    for i, image in enumerate(images):\n",
    "        plt.subplot(gs[0, i])\n",
    "        if rgb:\n",
    "            plt.imshow(image)\n",
    "        else: \n",
    "            image = image.reshape(image.shape[0], image.shape[1])\n",
    "            plt.imshow(image, cmap='gray')\n",
    "        plt.axis('off')\n",
    "    plt.show()\n",
    "\n",
    "def main():\n",
    "    rgb = False\n",
    "    if rgb:\n",
    "        kernels_list = [kernels.BLUR_FILTER_RGB, kernels.SHARPEN_FILTER_RGB, kernels.EDGE_FILTER_RGB, \n",
    "                    kernels.TOP_SOBEL_RGB, kernels.EMBOSS_FILTER_RGB]\n",
    "    else:\n",
    "        kernels_list = [kernels.BLUR_FILTER, kernels.SHARPEN_FILTER, kernels.EDGE_FILTER, \n",
    "                    kernels.TOP_SOBEL, kernels.EMBOSS_FILTER]\n",
    "\n",
    "    image = read_one_image(FILENAME)\n",
    "    if not rgb:\n",
    "        image = tf.image.rgb_to_grayscale(image)\n",
    "    image = tf.expand_dims(image, 0) # to make it into a batch of 1 element\n",
    "    images = convolve(image, kernels_list, rgb)\n",
    "    images = get_real_images(images)\n",
    "    show_images(images, rgb)"
   ]
  },
  {
   "cell_type": "code",
   "execution_count": 23,
   "metadata": {},
   "outputs": [
    {
     "data": {
      "image/png": "[encoded data removed]",
      "text/plain": [
       "<matplotlib.figure.Figure at 0x11c375c10>"
      ]
     },
     "metadata": {},
     "output_type": "display_data"
    }
   ],
   "source": [
    "main()"
   ]
  },
  {
   "cell_type": "code",
   "execution_count": null,
   "metadata": {
    "collapsed": true
   },
   "outputs": [],
   "source": []
  }
 ],
 "metadata": {
  "kernelspec": {
   "display_name": "Python(cs20si)",
   "language": "python",
   "name": "cs20si"
  },
  "language_info": {
   "codemirror_mode": {
    "name": "ipython",
    "version": 2
   },
   "file_extension": ".py",
   "mimetype": "text/x-python",
   "name": "python",
   "nbconvert_exporter": "python",
   "pygments_lexer": "ipython2",
   "version": "2.7.14"
  }
 },
 "nbformat": 4,
 "nbformat_minor": 2
}
